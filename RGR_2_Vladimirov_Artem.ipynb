{
 "cells": [
  {
   "cell_type": "markdown",
   "metadata": {},
   "source": [
    "### РГР №2 по предмету: Математическая статистика\n",
    "\n",
    "**Выполнил:** Владимиров Артём Сергеевич. Студент группы: R3340. Поток: Мат Стат 31.3\\\n",
    "**Преподаватель:** Береговенко Илья Игоревич. Ассистент, Научно-образовательный центр математики\\\n",
    "**Вариант выполнения:** 2.1"
   ]
  },
  {
   "cell_type": "markdown",
   "metadata": {},
   "source": [
    "### Задание 1"
   ]
  },
  {
   "cell_type": "markdown",
   "metadata": {},
   "source": [
    "### Выполнены предпосылки:\n",
    "1. Две независимые случайные выборки: $ X_1, \\dots, X_{n_X} \\text{ и } Y_1, \\dots, Y_{n_Y} $.\n",
    "2. Дисперсии известны: $ \\sigma_X^2, \\sigma_Y^2 $.\n",
    "3. Нормальное распределение: $ X_i \\sim \\mathcal{N}(\\mu_X, \\sigma_X^2) \\text{ и } Y_j \\sim \\mathcal{N}(\\mu_Y, \\sigma_Y^2) $.\n",
    "\n",
    "### Доверительный интервал\n",
    "1. Сначала приводим разность $(\\bar{X} - \\bar{Y})$ к стандартному нормальному виду:\n",
    "$$\n",
    "Z = \\frac{(\\bar{X} - \\bar{Y}) - (\\mu_X - \\mu_Y)}{\\sqrt{\\frac{\\sigma_X^2}{n_X} + \\frac{\\sigma_Y^2}{n_Y}}} \\sim \\mathcal{N}(0, 1).\n",
    "$$\n",
    "\n",
    "2. Для доверительного интервала уровня $1 - \\alpha$ пределы вероятности задаются:\n",
    "$$\n",
    "P\\left( -z_{\\alpha/2} \\leq Z \\leq z_{\\alpha/2} \\right) = 1 - \\alpha,\n",
    "$$\n",
    "где $z_{\\alpha/2}$ — квантиль стандартного нормального распределения.\n",
    "\n",
    "3. Раскрываем границы:\n",
    "$$\n",
    "-z_{\\alpha/2} \\cdot \\sqrt{\\frac{\\sigma_X^2}{n_X} + \\frac{\\sigma_Y^2}{n_Y}} \\leq (\\bar{X} - \\bar{Y}) - (\\mu_X - \\mu_Y) \\leq z_{\\alpha/2} \\cdot \\sqrt{\\frac{\\sigma_X^2}{n_X} + \\frac{\\sigma_Y^2}{n_Y}}.\n",
    "$$\n",
    "\n",
    "4. Перегруппировываем члены, чтобы выразить $(\\mu_X - \\mu_Y)$:\n",
    "$$\n",
    "(\\bar{X} - \\bar{Y}) - z_{\\alpha/2} \\sqrt{\\frac{\\sigma_X^2}{n_X} + \\frac{\\sigma_Y^2}{n_Y}}\n",
    "\\leq (\\mu_X - \\mu_Y) \\leq\n",
    "(\\bar{X} - \\bar{Y}) + z_{\\alpha/2} \\sqrt{\\frac{\\sigma_X^2}{n_X} + \\frac{\\sigma_Y^2}{n_Y}}.\n",
    "$$\n",
    "\n",
    "5. Итоговая формула доверительного интервала:\n",
    "$$\n",
    "CI_{1-\\alpha} \\text{ для } \\mu_X - \\mu_Y = \\bar{X} - \\bar{Y} \\pm z_{\\alpha/2} \\sqrt{\\frac{\\sigma_X^2}{n_X} + \\frac{\\sigma_Y^2}{n_Y}},\n",
    "$$\n",
    "\n",
    "или в развернутом виде:\n",
    "$$\n",
    "\\left( \\bar{X} - \\bar{Y} - z_{\\alpha/2} \\sqrt{\\frac{\\sigma_X^2}{n_X} + \\frac{\\sigma_Y^2}{n_Y}}, \\; \\bar{X} - \\bar{Y} + z_{\\alpha/2} \\sqrt{\\frac{\\sigma_X^2}{n_X} + \\frac{\\sigma_Y^2}{n_Y}} \\right).\n",
    "$$\n",
    "\n"
   ]
  },
  {
   "cell_type": "code",
   "execution_count": 2,
   "metadata": {},
   "outputs": [],
   "source": [
    "# Загрузим библиотеки\n",
    "import numpy as np\n",
    "import scipy.stats as stats\n",
    "import matplotlib.pyplot as plt"
   ]
  },
  {
   "cell_type": "code",
   "execution_count": 3,
   "metadata": {},
   "outputs": [],
   "source": [
    "# Параметры задачи\n",
    "mu1 = 2  # Среднее 1 распределения\n",
    "mu2 = 1  # Среднее 2 распределения\n",
    "var1 = 1  # Дисперсия 1 распределения\n",
    "var2 = 0.5  # Дисперсия 2 распределения\n",
    "tau = mu1 - mu2  # Разность средних\n",
    "n1 = 25  # Объем выборки 1\n",
    "n2 = 25  # Объем выборки 2\n",
    "n1_large = 10000 # Объем выборки 1 (второй случай)\n",
    "n2_large = 10000 # Объем выборки 2 (второй случай)\n",
    "alpha = 0.05  # Уровень значимости\n",
    "\n",
    "# Параметры эксперимента\n",
    "num_sim = 1000  # Количество повторений\n",
    "count = 0  # Счетчик для малого объема выборки\n",
    "count_large = 0  # Счетчик для большого объема выборки"
   ]
  },
  {
   "cell_type": "code",
   "execution_count": 4,
   "metadata": {},
   "outputs": [],
   "source": [
    "# Функция для расчета ДИ\n",
    "def CI(mean1, mean2, n1, n2, var1, var2, alpha):\n",
    "    # Общая дисперсия\n",
    "    var = var1/n1 + var2/n2\n",
    "    z_alpha = stats.norm.ppf(1 - alpha / 2)  # Квантиль нормального распределения\n",
    "    # Нижняя и верхняя границы ДИ\n",
    "    lower_bound = (mean1 - mean2) - z_alpha * np.sqrt(var)\n",
    "    upper_bound = (mean1 - mean2) + z_alpha * np.sqrt(var)\n",
    "    return lower_bound, upper_bound"
   ]
  },
  {
   "cell_type": "code",
   "execution_count": 5,
   "metadata": {},
   "outputs": [
    {
     "name": "stdout",
     "output_type": "stream",
     "text": [
      "Для малого объема выборки (n1 = n2 = 25) число покрытий ДИ: 982\n",
      "Для большого объема выборки (n1 = n2 = 10000) число покрытий ДИ: 967\n"
     ]
    }
   ],
   "source": [
    "# Установим seed для воспроизводимости\n",
    "np.random.seed(10000)\n",
    "\n",
    "# Симуляции для малого объема выборки\n",
    "for i in range(num_sim):\n",
    "    # Генерация случайных выборок из нормального распределения\n",
    "    sample1 = np.random.normal(mu1, var1, n1)\n",
    "    sample2 = np.random.normal(mu2, var2, n2)\n",
    "    \n",
    "    # Расчет средних\n",
    "    mean1 = np.mean(sample1)\n",
    "    mean2 = np.mean(sample2)\n",
    "    \n",
    "    # Вычисление ДИ\n",
    "    lower, upper = CI(mean1, mean2, n1, n2, var1, var2, alpha)\n",
    "    \n",
    "    # Проверка, попадает ли истинное значение в доверительный интервал\n",
    "    if lower <= tau <= upper:\n",
    "        count += 1\n",
    "\n",
    "\n",
    "# Симуляции для большого объема выборки\n",
    "for i in range(num_sim):\n",
    "    # Генерация случайных выборок  из нормального распределения\n",
    "    sample1 = np.random.normal(mu1, var1, n1_large)\n",
    "    sample2 = np.random.normal(mu2, var2, n2_large)\n",
    "    \n",
    "    # Расчет средних\n",
    "    mean1 = np.mean(sample1)\n",
    "    mean2 = np.mean(sample2)\n",
    "    \n",
    "    # Вычисление ДИ\n",
    "    lower, upper = CI(mean1, mean2, n1_large, n2_large, var1, var2, alpha)\n",
    "    \n",
    "    # Проверка, попадает ли истинное значение в доверительный интервал\n",
    "    if lower <= tau <= upper:\n",
    "        count_large += 1\n",
    "\n",
    "print(f\"Для малого объема выборки (n1 = n2 = 25) число покрытий ДИ: {count}\")\n",
    "print(f\"Для большого объема выборки (n1 = n2 = 10000) число покрытий ДИ: {count_large}\")"
   ]
  },
  {
   "cell_type": "markdown",
   "metadata": {},
   "source": [
    "Число покрытий доверительного интервала снизилось, так как при малом объеме выборки стандартная ошибка  больше, что приводит к более широким интервалам. Это увеличивает вероятность, что истинное значение окажется внутри интервала. При увеличении объема выборки доверительные интервалы становятся уже за счет уменьшения стандартной ошибки. Это делает интервалы более точными. По мере увеличения объема выборки число покрытий будет всё ближе к теоретическому уровню доверия (95%)"
   ]
  },
  {
   "cell_type": "markdown",
   "metadata": {},
   "source": [
    "### Задание 2"
   ]
  },
  {
   "cell_type": "markdown",
   "metadata": {},
   "source": [
    "Для распределения Лапласа:\n",
    "\n",
    "Дисперсия случайной величины:$\\text{Var}(X) = 2 \\cdot \\text{scale}^2$\n",
    "\n",
    "Значение плотности в точке медианы ($x = \\mu$): $f_X(\\mu) = \\frac{1}{2 \\cdot \\text{scale}}$\n",
    "\n",
    "Подставляем эти значения в общую формулу: $\\text{Var}(\\text{Median}) = \\frac{\\text{Var}(X)}{n \\cdot f_X^2(\\mu)}$\n",
    "\n",
    "Раскрываем числитель и знаменатель:\n",
    "$\\text{Var}(\\text{Median}) = \\frac{2 \\cdot \\text{scale}^2}{n \\cdot \\left(\\frac{1}{2 \\cdot \\text{scale}}\\right)^2}$\n",
    "\n",
    "\n",
    "Упрощаем дробь: $\\text{Var}(\\text{Median}) = \\frac{2 \\cdot \\text{scale}^2}{n \\cdot \\frac{1}{4 \\cdot \\text{scale}^2}}$\n",
    "\n",
    "$\\text{Var}(\\text{Median}) = \\frac{2}{n \\cdot \\text{scale}^2}$\n"
   ]
  },
  {
   "cell_type": "markdown",
   "metadata": {},
   "source": [
    "### Выполнены предпосылки:\n",
    "1. Однопараметрическое распределение Лапласа: $ X_1, \\dots, X_n $.\n",
    "2. Параметр масштаба известен: $ \\text{scale} $.\n",
    "3. Распределение имеет следующий вид: $ X_i \\sim \\text{Laplace}(\\mu, \\text{scale}) $.\n",
    "\n",
    "### Доверительный интервал\n",
    "1. Выборочная медиана является асимптотически нормальной:\n",
    "$$\n",
    "\\text{Median} \\sim \\mathcal{N}\\left(\\mu, \\frac{2}{n \\cdot \\text{scale}^2}\\right),\n",
    "$$\n",
    "где $\\mu$ — истинный параметр сдвига, $n$ — объем выборки, а $\\frac{2}{n \\cdot \\text{scale}^2}$ — дисперсия медианы.\n",
    "\n",
    "2. Для доверительного интервала уровня $1 - \\alpha$ пределы вероятности задаются:\n",
    "$$\n",
    "P\\left( -z_{\\alpha/2} \\leq \\frac{\\text{Median} - \\mu}{\\sqrt{\\frac{2}{n \\cdot \\text{scale}^2}}} \\leq z_{\\alpha/2} \\right) = 1 - \\alpha,\n",
    "$$\n",
    "где $z_{\\alpha/2}$ — квантиль стандартного нормального распределения.\n",
    "\n",
    "3. Раскрываем границы:\n",
    "$$\n",
    "-z_{\\alpha/2} \\cdot \\sqrt{\\frac{2}{n \\cdot \\text{scale}^2}} \\leq \\text{Median} - \\mu \\leq z_{\\alpha/2} \\cdot \\sqrt{\\frac{2}{n \\cdot \\text{scale}^2}}.\n",
    "$$\n",
    "\n",
    "4. Перегруппировываем члены, чтобы выразить $\\mu$:\n",
    "$$\n",
    "\\text{Median} - z_{\\alpha/2} \\cdot \\sqrt{\\frac{2}{n \\cdot \\text{scale}^2}}\n",
    "\\leq \\mu \\leq\n",
    "\\text{Median} + z_{\\alpha/2} \\cdot \\sqrt{\\frac{2}{n \\cdot \\text{scale}^2}}.\n",
    "$$\n",
    "\n",
    "5. Итоговая формула доверительного интервала:\n",
    "$$\n",
    "CI_{1-\\alpha} \\text{ для } \\mu = \\text{Median} \\pm z_{\\alpha/2} \\cdot \\sqrt{\\frac{2}{n \\cdot \\text{scale}^2}},\n",
    "$$\n",
    "\n",
    "или в развернутом виде:\n",
    "$$\n",
    "\\left( \\text{Median} - z_{\\alpha/2} \\cdot \\sqrt{\\frac{2}{n \\cdot \\text{scale}^2}}, \\; \\text{Median} + z_{\\alpha/2} \\cdot \\sqrt{\\frac{2}{n \\cdot \\text{scale}^2}} \\right).\n",
    "$$\n"
   ]
  },
  {
   "cell_type": "code",
   "execution_count": 6,
   "metadata": {},
   "outputs": [],
   "source": [
    "# Параметры задачи для распределения Лапласа\n",
    "mu = 2  # Истинное значение параметра сдвига\n",
    "scale = 1  # Единичный масштабирующий параметр\n",
    "n_small = 25  # Малый объем выборки\n",
    "n_large = 10000  # Большой объем выборки\n",
    "alpha = 0.05  # Уровень значимости\n",
    "\n",
    "# Параметры эксперимента\n",
    "num_sim = 1000  # Количество повторений\n",
    "count_small = 0  # Счетчик для малого объема выборки\n",
    "count_large = 0  # Счетчик для большого объема выборки"
   ]
  },
  {
   "cell_type": "code",
   "execution_count": 7,
   "metadata": {},
   "outputs": [],
   "source": [
    "def laplace_ci(sample, alpha):\n",
    "    sample_median = np.median(sample)  # Выборочная медиана\n",
    "    n = len(sample)\n",
    "    # Асимптотическая дисперсия медианы для распределения Лапласа\n",
    "    asymptotic_var = 2 / (n * scale**2)\n",
    "    z_alpha = stats.norm.ppf(1 - alpha / 2)  # Квантиль нормального распределения\n",
    "    # Нижняя и верхняя границы ДИ\n",
    "    lower_bound = sample_median - z_alpha * np.sqrt(asymptotic_var)\n",
    "    upper_bound = sample_median + z_alpha * np.sqrt(asymptotic_var)\n",
    "    return lower_bound, upper_bound"
   ]
  },
  {
   "cell_type": "code",
   "execution_count": 8,
   "metadata": {},
   "outputs": [
    {
     "name": "stdout",
     "output_type": "stream",
     "text": [
      "Для малого объема выборки (n = 25) число покрытий ДИ: 973\n",
      "Для большого объема выборки (n = 10000) число покрытий ДИ: 994\n"
     ]
    }
   ],
   "source": [
    "# Установим seed для воспроизводимости\n",
    "np.random.seed(10000)\n",
    "\n",
    "# Симуляции для малого объема выборки\n",
    "for i in range(num_sim):\n",
    "    # Генерация случайных выборок из распределения Лапласа\n",
    "    sample = np.random.laplace(loc=mu, scale=scale, size=n_small)\n",
    "    \n",
    "    # Вычисление ДИ\n",
    "    lower, upper = laplace_ci(sample, alpha)\n",
    "    \n",
    "    # Проверка, попадает ли истинное значение в доверительный интервал\n",
    "    if lower <= mu <= upper:\n",
    "        count_small += 1\n",
    "\n",
    "# Симуляции для большого объема выборки\n",
    "for i in range(num_sim):\n",
    "    # Генерация случайных выборок из распределения Лапласа\n",
    "    sample = np.random.laplace(loc=mu, scale=scale, size=n_large)\n",
    "    \n",
    "    # Вычисление ДИ\n",
    "    lower, upper = laplace_ci(sample, alpha)\n",
    "    \n",
    "    # Проверка, попадает ли истинное значение в доверительный интервал\n",
    "    if lower <= mu <= upper:\n",
    "        count_large += 1\n",
    "\n",
    "print(f\"Для малого объема выборки (n = 25) число покрытий ДИ: {count_small}\")\n",
    "print(f\"Для большого объема выборки (n = 10000) число покрытий ДИ: {count_large}\")\n"
   ]
  },
  {
   "cell_type": "markdown",
   "metadata": {},
   "source": [
    "С ростом n выборочная медиана всё ближе приближается к истинному значению μ. Это связано с законом больших чисел, выборочные статистики при увеличении n стремятся к своим теоретическим значениям. При малых n: интервалы широкие, но выборочная медиана менее точна, что иногда приводит к пропуску истинного значения."
   ]
  }
 ],
 "metadata": {
  "kernelspec": {
   "display_name": "Python 3 (ipykernel)",
   "language": "python",
   "name": "python3"
  },
  "language_info": {
   "codemirror_mode": {
    "name": "ipython",
    "version": 3
   },
   "file_extension": ".py",
   "mimetype": "text/x-python",
   "name": "python",
   "nbconvert_exporter": "python",
   "pygments_lexer": "ipython3",
   "version": "3.12.4"
  }
 },
 "nbformat": 4,
 "nbformat_minor": 4
}
